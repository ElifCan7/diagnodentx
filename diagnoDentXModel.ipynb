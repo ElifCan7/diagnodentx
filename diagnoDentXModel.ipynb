{
  "nbformat": 4,
  "nbformat_minor": 0,
  "metadata": {
    "colab": {
      "provenance": []
    },
    "kernelspec": {
      "name": "python3",
      "display_name": "Python 3"
    },
    "language_info": {
      "name": "python"
    }
  },
  "cells": [
    {
      "cell_type": "code",
      "execution_count": 1,
      "metadata": {
        "colab": {
          "base_uri": "https://localhost:8080/"
        },
        "id": "dtJudPtq7FM_",
        "outputId": "674778ff-0f43-49ae-df08-c92399cca01e"
      },
      "outputs": [
        {
          "output_type": "stream",
          "name": "stdout",
          "text": [
            "Mounted at /content/drive\n"
          ]
        }
      ],
      "source": [
        "from google.colab import drive\n",
        "\n",
        "drive.mount('/content/drive')\n"
      ]
    },
    {
      "cell_type": "code",
      "source": [
        "!pip install Flask flask-cors pyngrok\n"
      ],
      "metadata": {
        "id": "VxCDaiNB9Ijs"
      },
      "execution_count": null,
      "outputs": []
    },
    {
      "cell_type": "code",
      "source": [
        "!ngrok authtoken 2ic5RCxXYzFWOjuIlPwBVgH20Dm_2Dz5YiKXsUoG5AKqwwSyD\n",
        "#yourToken"
      ],
      "metadata": {
        "colab": {
          "base_uri": "https://localhost:8080/"
        },
        "id": "0WHKUa-Wh55p",
        "outputId": "3427da4c-a428-4889-b92d-3c7cc34016a3"
      },
      "execution_count": 6,
      "outputs": [
        {
          "output_type": "stream",
          "name": "stdout",
          "text": [
            "Authtoken saved to configuration file: /root/.config/ngrok/ngrok.yml\n"
          ]
        }
      ]
    },
    {
      "cell_type": "code",
      "source": [
        "from flask import Flask, request, jsonify\n",
        "import tensorflow.keras as keras\n",
        "import numpy as np\n",
        "from PIL import Image\n",
        "import io\n",
        "import cv2\n",
        "from tensorflow.keras.preprocessing.image import array_to_img\n",
        "from flask_cors import CORS\n",
        "from pyngrok import ngrok\n",
        "import threading\n",
        "\n",
        "app = Flask(__name__)\n",
        "CORS(app)  # CORS'u etkinleştir\n",
        "\n",
        "# Load the model\n",
        "model = keras.models.load_model('/content/drive/MyDrive/elif/model/model_ckpt.h5')\n",
        "\n",
        "# Define class labels\n",
        "class_indices = {\n",
        "    0: 'Chronic apical periodontitis with vertical bone loss',\n",
        "    1: 'Dental caries (proximal)',\n",
        "    2: 'Embeded tooth',\n",
        "    3: 'Impacted tooth (fully bony impaction)',\n",
        "    4: 'Irreversible pulpitis with Acute periodontitis',\n",
        "    5: 'Periodontitis',\n",
        "    6: 'Improper restoration with chronic apical periodontitis'\n",
        "}\n",
        "\n",
        "def preprocess_image(image):\n",
        "    if image is None:\n",
        "        return None\n",
        "\n",
        "    # Apply Gaussian blur to the image\n",
        "    image = cv2.GaussianBlur(np.array(image), (5, 5), 0)\n",
        "    image = array_to_img(image)\n",
        "    # Expand dimensions to match model input shape\n",
        "    image = np.expand_dims(image, axis=0)\n",
        "\n",
        "    return image\n",
        "\n",
        "def predict_image(image):\n",
        "    image = preprocess_image(image)\n",
        "    prediction = model.predict(image)\n",
        "    # Get the predicted class index\n",
        "    predicted_class_index = np.argmax(prediction)\n",
        "    # Get the predicted class label using class_indices dictionary\n",
        "    predicted_class = class_indices[predicted_class_index]\n",
        "    return predicted_class\n",
        "\n",
        "@app.route('/predict', methods=['POST'])\n",
        "def predict():\n",
        "    if 'file' not in request.files:\n",
        "        return jsonify({'error': 'No file part'})\n",
        "\n",
        "    file = request.files['file']\n",
        "    if file.filename == '':\n",
        "        return jsonify({'error': 'No selected file'})\n",
        "\n",
        "    image = Image.open(io.BytesIO(file.read()))\n",
        "    prediction = predict_image(image)\n",
        "\n",
        "    return jsonify({'prediction': prediction})\n",
        "\n",
        "def run_flask():\n",
        "    # Flask uygulamasını 7000 portunda çalıştır\n",
        "    app.run(host='0.0.0.0', port=7000)\n",
        "\n",
        "def start_ngrok():\n",
        "    # Ngrok'u 6000 portu için başlat\n",
        "    public_url = ngrok.connect(7000)\n",
        "    print(f\"Ngrok Tunnel URL: {public_url}\")\n",
        "\n",
        "if __name__ == '__main__':\n",
        "    # Flask uygulamasını ayrı bir iş parçacığında çalıştır\n",
        "    flask_thread = threading.Thread(target=run_flask)\n",
        "    flask_thread.start()\n",
        "\n",
        "    # Ngrok'u başlat\n",
        "    start_ngrok()\n"
      ],
      "metadata": {
        "colab": {
          "base_uri": "https://localhost:8080/"
        },
        "id": "BbLfnnoSjCXi",
        "outputId": "2bea8160-3aa6-4abc-e85a-1ce9e21db6f0"
      },
      "execution_count": 12,
      "outputs": [
        {
          "output_type": "stream",
          "name": "stdout",
          "text": [
            " * Serving Flask app '__main__'\n",
            " * Debug mode: off\n"
          ]
        },
        {
          "output_type": "stream",
          "name": "stderr",
          "text": [
            "INFO:werkzeug:\u001b[31m\u001b[1mWARNING: This is a development server. Do not use it in a production deployment. Use a production WSGI server instead.\u001b[0m\n",
            " * Running on all addresses (0.0.0.0)\n",
            " * Running on http://127.0.0.1:7000\n",
            " * Running on http://172.28.0.12:7000\n",
            "INFO:werkzeug:\u001b[33mPress CTRL+C to quit\u001b[0m\n"
          ]
        },
        {
          "output_type": "stream",
          "name": "stdout",
          "text": [
            "Ngrok Tunnel URL: NgrokTunnel: \"https://e60d-34-83-101-143.ngrok-free.app\" -> \"http://localhost:7000\"\n"
          ]
        }
      ]
    }
  ]
}